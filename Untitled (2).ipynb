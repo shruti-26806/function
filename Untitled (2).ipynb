{
  "nbformat": 4,
  "nbformat_minor": 0,
  "metadata": {
    "colab": {
      "provenance": []
    },
    "kernelspec": {
      "name": "python3",
      "display_name": "Python 3"
    },
    "language_info": {
      "name": "python"
    }
  },
  "cells": [
    {
      "cell_type": "code",
      "execution_count": null,
      "metadata": {
        "id": "rHsjA-_boeIy"
      },
      "outputs": [],
      "source": []
    },
    {
      "cell_type": "markdown",
      "source": [
        "**Data Types and Structures Questions**\n",
        "\n",
        "1. What are data structures, and why are they important?\n",
        "**Ans-** Data structures are specialized formats for organizing, storing, and accessing collections of data. They provide efficient ways to manage information based on its characteristics and intended use.\n",
        "\n",
        "The data structures are important for:\n",
        "\n",
        "*Simplifying data manipulation (adding, removing, modifying elements)\n",
        "\n",
        "*Optimizing searching and sorting operations\n",
        "\n",
        "*Conserving memory usage"
      ],
      "metadata": {
        "id": "q-Qc4oZEogbo"
      }
    },
    {
      "cell_type": "markdown",
      "source": [
        "2.  Explain the difference between mutable and immutable data types with examples.\n",
        "**Ans-** Mutable data types are those which can be modified without changing their identity. Example- lists, dict, set\n",
        "\n",
        "Immutable data types are those which cannot be modified. Examples- int, tuple, bool, frozenset."
      ],
      "metadata": {
        "id": "v34XDovsphWS"
      }
    },
    {
      "cell_type": "markdown",
      "source": [
        "3. What are the main differences between lists and tuples in Python?\n",
        "**Ans-**  Tuples are immutable because once it is created, you cannot change its values while lists are mutable. Tuples use parenthesis not a square bracket.\n"
      ],
      "metadata": {
        "id": "tP4qPOxQsGa2"
      }
    },
    {
      "cell_type": "markdown",
      "source": [
        "4. Describe how dictionaries store data.\n",
        "**Ans-** Dictionaries store data in key-value pairs using a hash table, where keys are hashed to determine storage location for fast lookup.\n",
        "\n",
        "\n"
      ],
      "metadata": {
        "id": "BmcS93FksabW"
      }
    },
    {
      "cell_type": "markdown",
      "source": [
        "5. Why might you use a set instead of a list in Python ?\n",
        "**Ans** We can use a set instead of a list in python when:\n",
        "\n",
        "\n",
        "*   We want uniqeness.\n",
        "\n",
        "*   We want fast membership cheques.\n",
        "*   We do not want multiple user interference.\n"
      ],
      "metadata": {
        "id": "TLfLWheRxYID"
      }
    },
    {
      "cell_type": "markdown",
      "source": [
        "6. What is a string in Python, and how is it different from a list?\n",
        "**Ans-** Characters arranged in an unchangeable order, considering writing a sentence, a paragraph, or a piece of material is known as string.\n",
        "String is a sequence of characters and List is a sequence of any data type including intezers, strings and even other data types."
      ],
      "metadata": {
        "id": "yDZC3GRo06AX"
      }
    },
    {
      "cell_type": "markdown",
      "source": [
        "7. How do tuples ensure data integrity in Python?\n",
        "**Ans** Tuples ensure data integrity in Python by being immutable, which means their content cannot be changed, preventing accidental modifications."
      ],
      "metadata": {
        "id": "gNGpAhPLTT8a"
      }
    },
    {
      "cell_type": "markdown",
      "source": [
        "8. What is a hash table, and how does it relate to dictionaries in Python?\n",
        "**Ans-**  A hash table is a data structure that stores data in key-value pairs and uses a hash function to compute an index.\n",
        "Dictionaries use hash tables internally to store and retieve key-value pairs efficiently."
      ],
      "metadata": {
        "id": "gRGovc2z3wqU"
      }
    },
    {
      "cell_type": "markdown",
      "source": [
        "9. Can lists contain different data types in Python?\n",
        "**Ans** Yes, lists in Python contain different data types, such as integers, strings, floats, etc. all in same list."
      ],
      "metadata": {
        "id": "a45vXnIbU9Kl"
      }
    },
    {
      "cell_type": "markdown",
      "source": [
        "10. Explain why strings are immutable in Python.\n",
        "**Ans** Strings are immutable in Python to ensure data integrity, security and performance (once they are created, they cannot be changed) which makes them safe for use."
      ],
      "metadata": {
        "id": "QIig1_aSVwEa"
      }
    },
    {
      "cell_type": "markdown",
      "source": [
        "11. What advantages do dictionaries offer over lists for certain tasks?\n",
        "**Ans** Dictionaries offer several advantages over lists for certain tasks:\n",
        "\n",
        "\n",
        "1.   Faster lookups\n",
        "2.   Key-based access\n",
        "\n",
        "3.   Unorderd flexibility\n",
        "2.   No need to search\n",
        "\n",
        "\n",
        "\n"
      ],
      "metadata": {
        "id": "niSnnqwUWh51"
      }
    },
    {
      "cell_type": "markdown",
      "source": [
        "12. Describe a scenario where using a tuple would be preferable over a list.\n",
        "**Ans** Tuples are immutable.  Tuples can be used if you want the data in your collection to be read-only, never to change. Tuples are more memory efficient than lists."
      ],
      "metadata": {
        "id": "HdiWTnfSXqfU"
      }
    },
    {
      "cell_type": "markdown",
      "source": [
        "13. How do sets handle duplicate values in Python?\n",
        "**Ans** By automatically removing duplicate values. They only store unique elements."
      ],
      "metadata": {
        "id": "10BRZcEHYpOq"
      }
    },
    {
      "cell_type": "markdown",
      "source": [
        "14. How does the “in” keyword work differently for lists and dictionaries?\n",
        "**Ans** In LISTS, it checks if a value exists in the list.\n",
        "\n",
        "In DICTIONARIES, it checks if a key exists in the dictionary(not values)."
      ],
      "metadata": {
        "id": "_slQK4hAZH4w"
      }
    },
    {
      "cell_type": "markdown",
      "source": [
        "15. Can you modify the elements of a tuple? Explain why or why not?\n",
        "**Ans** No, we cannot modify the elements of a tuple because tuples are immutable."
      ],
      "metadata": {
        "id": "v3M4tDZ5aPe5"
      }
    },
    {
      "cell_type": "markdown",
      "source": [
        "16. What is a nested dictionary, and give an example of its use case?\n",
        "**Ans** Nested dictionary is a dictionary inside another dictionary. It allows you to store complex, hierarchial data in a structured way.\n",
        "\n",
        "Its use case:\n",
        "\n",
        "\n",
        "*   Student records\n",
        "\n",
        "*   Employee databases\n",
        "*   Config files or settings\n",
        "\n",
        "\n"
      ],
      "metadata": {
        "id": "LLh5EFJ2bCgm"
      }
    },
    {
      "cell_type": "markdown",
      "source": [
        "17. Describe the time complexity of accessing elements in a dictionary.\n",
        "**Ans** Dictionary typically has an average time complexity of O(1).\n"
      ],
      "metadata": {
        "id": "hkd3IPmPcTJp"
      }
    },
    {
      "cell_type": "markdown",
      "source": [
        "18. In what situations are lists preferred over dictionaries?\n",
        "**Ans** Situations where lists are preferred over dictionaries:\n",
        "\n",
        "\n",
        "1.   When the sequence of item is important.\n",
        "\n",
        "1.   Index-based keys.\n",
        "\n",
        "1.   Lists allow duplicate values.\n",
        "2.   Lightweight structure.\n",
        "\n",
        "\n",
        "\n",
        "\n",
        "\n",
        "\n"
      ],
      "metadata": {
        "id": "6oVkKQ0kdCQo"
      }
    },
    {
      "cell_type": "markdown",
      "source": [
        "19. Why are dictionaries considered unordered, and how does that affect data retrieval?\n",
        "**Ans** Dictionaries are considered unordered because they didn't maintain insertion order. But this does not affect fast key-based retrieval."
      ],
      "metadata": {
        "id": "jPwWSQ8ceNzD"
      }
    },
    {
      "cell_type": "markdown",
      "source": [
        "20.  Explain the difference between a list and a dictionary in terms of data retrieval.\n",
        "**Ans** Lists retrieve data using **index number** which can be slower process.\n",
        "Dictionaries use **keys** to access values, making lookups much faster.\n",
        "So, use lists when order matters and dictionaries when you need quick access by name or label."
      ],
      "metadata": {
        "id": "TIBhIc5Us9kk"
      }
    },
    {
      "cell_type": "markdown",
      "source": [
        "# **PRACTICAL QUESTIONS**"
      ],
      "metadata": {
        "id": "6QQOOTiYvyI5"
      }
    },
    {
      "cell_type": "markdown",
      "source": [
        "1. Write a code to create a string with your name and print it."
      ],
      "metadata": {
        "id": "VIiTzxCbwFNL"
      }
    },
    {
      "cell_type": "code",
      "source": [
        "my_name = \"Shruti\"\n",
        "print(\"My name is\", my_name)"
      ],
      "metadata": {
        "colab": {
          "base_uri": "https://localhost:8080/"
        },
        "id": "aix9nC-FwDHi",
        "outputId": "7649ccd3-d139-438d-ce87-ced56cebfe13"
      },
      "execution_count": null,
      "outputs": [
        {
          "output_type": "stream",
          "name": "stdout",
          "text": [
            "My name is Shruti\n"
          ]
        }
      ]
    },
    {
      "cell_type": "markdown",
      "source": [
        "2. Write a code to find the length of the string \"Hello World\"."
      ],
      "metadata": {
        "id": "zVI-cT6cxJvC"
      }
    },
    {
      "cell_type": "code",
      "source": [
        "str = \"Hello World\"\n",
        "print(len(str))"
      ],
      "metadata": {
        "colab": {
          "base_uri": "https://localhost:8080/"
        },
        "id": "z1ILrK7QxbIg",
        "outputId": "6d4d5be0-d1bb-4333-cf2e-4c610a3ee226"
      },
      "execution_count": null,
      "outputs": [
        {
          "output_type": "stream",
          "name": "stdout",
          "text": [
            "11\n"
          ]
        }
      ]
    },
    {
      "cell_type": "markdown",
      "source": [
        "3. Write a code to slice the first 3 characters from the string \"Python  Programming\"."
      ],
      "metadata": {
        "id": "JlCcdNOfxzc-"
      }
    },
    {
      "cell_type": "code",
      "source": [
        "text = \"PythonProgramming\"\n",
        "sliced_text = text[:3]\n",
        "print(sliced_text)"
      ],
      "metadata": {
        "colab": {
          "base_uri": "https://localhost:8080/"
        },
        "id": "yorHZwaEx_si",
        "outputId": "efddebb9-a650-4f1d-9dd6-4227cd9a4ce2"
      },
      "execution_count": null,
      "outputs": [
        {
          "output_type": "stream",
          "name": "stdout",
          "text": [
            "Pyt\n"
          ]
        }
      ]
    },
    {
      "cell_type": "markdown",
      "source": [
        "4. Write a code to convert the string \"hello\" to uppercase."
      ],
      "metadata": {
        "id": "J4A2q2f1yfNb"
      }
    },
    {
      "cell_type": "code",
      "source": [
        "text = \"hello\"\n",
        "upper_text = text.upper()\n",
        "print(upper_text)"
      ],
      "metadata": {
        "colab": {
          "base_uri": "https://localhost:8080/"
        },
        "id": "K5Nhfav5ys4Z",
        "outputId": "7740c491-6f38-4405-fd31-e19b86fc2153"
      },
      "execution_count": null,
      "outputs": [
        {
          "output_type": "stream",
          "name": "stdout",
          "text": [
            "HELLO\n"
          ]
        }
      ]
    },
    {
      "cell_type": "markdown",
      "source": [
        "5. Write a code to replace the word \"apple\" with \"orange\" in the string \"I like apple\"."
      ],
      "metadata": {
        "id": "JLPvzZhOyt1o"
      }
    },
    {
      "cell_type": "code",
      "source": [
        "text = \"I like apple\"\n",
        "new_text = text.replace(\"apple\", \"orange\")\n",
        "print(new_text)"
      ],
      "metadata": {
        "colab": {
          "base_uri": "https://localhost:8080/"
        },
        "id": "cYruu97IzDxb",
        "outputId": "62c61995-d4e9-459f-81d3-a2c3ddca627b"
      },
      "execution_count": null,
      "outputs": [
        {
          "output_type": "stream",
          "name": "stdout",
          "text": [
            "I like orange\n"
          ]
        }
      ]
    },
    {
      "cell_type": "markdown",
      "source": [
        "6.  Write a code to create a list with numbers 1 to 5 and print it."
      ],
      "metadata": {
        "id": "AzZ8-kX2zqDj"
      }
    },
    {
      "cell_type": "code",
      "source": [
        "numbers = [1, 2, 3, 4, 5]\n",
        "print(\"list of numbers:\", numbers)"
      ],
      "metadata": {
        "colab": {
          "base_uri": "https://localhost:8080/"
        },
        "id": "PLBZdu04z2r1",
        "outputId": "9f1033d3-b933-457a-c8ca-95d4368606a2"
      },
      "execution_count": null,
      "outputs": [
        {
          "output_type": "stream",
          "name": "stdout",
          "text": [
            "list of numbers: [1, 2, 3, 4, 5]\n"
          ]
        }
      ]
    },
    {
      "cell_type": "markdown",
      "source": [
        "7. Write a code to append the number 10 to the list [1, 2, 3, 4]."
      ],
      "metadata": {
        "id": "ljelor8q0QrB"
      }
    },
    {
      "cell_type": "code",
      "source": [
        "numbers  = [1, 2, 3, 4]\n",
        "numbers.append(10)\n",
        "print(numbers)"
      ],
      "metadata": {
        "colab": {
          "base_uri": "https://localhost:8080/"
        },
        "id": "5SU9m9bn0ex-",
        "outputId": "fbb52704-bb7d-486e-d6cf-fc57ab46c2ea"
      },
      "execution_count": null,
      "outputs": [
        {
          "output_type": "stream",
          "name": "stdout",
          "text": [
            "[1, 2, 3, 4, 10]\n"
          ]
        }
      ]
    },
    {
      "cell_type": "markdown",
      "source": [
        "8. Write a code to remove the number 3 from the list [1, 2, 3, 4, 5]."
      ],
      "metadata": {
        "id": "lDsyYTOk0fZm"
      }
    },
    {
      "cell_type": "code",
      "source": [
        "numbers = [1, 2, 3, 4, 5]\n",
        "numbers.remove(3)\n",
        "print(numbers)"
      ],
      "metadata": {
        "colab": {
          "base_uri": "https://localhost:8080/"
        },
        "id": "pNpGfPZ80kC2",
        "outputId": "2d37442f-88e8-446f-8e4a-b8025628d441"
      },
      "execution_count": null,
      "outputs": [
        {
          "output_type": "stream",
          "name": "stdout",
          "text": [
            "[1, 2, 4, 5]\n"
          ]
        }
      ]
    },
    {
      "cell_type": "markdown",
      "source": [
        "9. Write a code to access the second element in the list ['a', 'b', 'c', 'd']."
      ],
      "metadata": {
        "id": "JuNW0Ge902R2"
      }
    },
    {
      "cell_type": "code",
      "source": [
        "str = ['a', 'b', 'c', 'd']\n",
        "print(str[1])"
      ],
      "metadata": {
        "colab": {
          "base_uri": "https://localhost:8080/"
        },
        "id": "bl8Fsth01BmI",
        "outputId": "f9dc4fe0-4eef-4ad8-d1d2-e842aa799a41"
      },
      "execution_count": null,
      "outputs": [
        {
          "output_type": "stream",
          "name": "stdout",
          "text": [
            "b\n"
          ]
        }
      ]
    },
    {
      "cell_type": "markdown",
      "source": [
        "10. Write a code to reverse the list [10, 20, 30, 40, 50]."
      ],
      "metadata": {
        "id": "dtoJgDiB1CDI"
      }
    },
    {
      "cell_type": "code",
      "source": [
        "numbers = [10, 20, 30, 40, 50]\n",
        "numbers.reverse()\n",
        "print(numbers)"
      ],
      "metadata": {
        "colab": {
          "base_uri": "https://localhost:8080/"
        },
        "id": "nAFHxVZ61YQB",
        "outputId": "062f9abd-cac6-4850-8527-97e2ec362ec5"
      },
      "execution_count": null,
      "outputs": [
        {
          "output_type": "stream",
          "name": "stdout",
          "text": [
            "[50, 40, 30, 20, 10]\n"
          ]
        }
      ]
    },
    {
      "cell_type": "markdown",
      "source": [
        "11.  Write a code to create a tuple with the elements 100, 200, 300 and print it.\n",
        "\n"
      ],
      "metadata": {
        "id": "bmO-c2tP1o_u"
      }
    },
    {
      "cell_type": "code",
      "source": [
        "my_tuple = (100, 200, 300)\n",
        "print(my_tuple)"
      ],
      "metadata": {
        "colab": {
          "base_uri": "https://localhost:8080/"
        },
        "id": "TvostpGP2Cg6",
        "outputId": "bffc3ad9-6ddd-434d-a37b-a2951b9a621a"
      },
      "execution_count": null,
      "outputs": [
        {
          "output_type": "stream",
          "name": "stdout",
          "text": [
            "(100, 200, 300)\n"
          ]
        }
      ]
    },
    {
      "cell_type": "markdown",
      "source": [
        "  \n",
        "\n",
        "12. Write a code to access the second-to-last element of the tuple ('red', 'green', 'blue', 'yellow').\n",
        "\n",
        "\n"
      ],
      "metadata": {
        "id": "nqptDaXV2U3p"
      }
    },
    {
      "cell_type": "code",
      "source": [
        "colors = ('red', 'green', 'blue', 'yellow')\n",
        "print(colors[-2])"
      ],
      "metadata": {
        "colab": {
          "base_uri": "https://localhost:8080/"
        },
        "id": "Qh3BPxik14V9",
        "outputId": "df7129dd-76f0-4ec2-85df-164c7e59225d"
      },
      "execution_count": null,
      "outputs": [
        {
          "output_type": "stream",
          "name": "stdout",
          "text": [
            "blue\n"
          ]
        }
      ]
    },
    {
      "cell_type": "markdown",
      "source": [
        " 13. Write a code to find the minimum number in the tuple (10, 20, 5, 15)."
      ],
      "metadata": {
        "id": "u_geVkVa2yBL"
      }
    },
    {
      "cell_type": "code",
      "source": [
        "numbers = (10, 20, 5, 15)\n",
        "print(min(numbers))"
      ],
      "metadata": {
        "colab": {
          "base_uri": "https://localhost:8080/"
        },
        "id": "btxe5kWz1xxE",
        "outputId": "ff4066cd-efe3-4a74-b57e-fb94fc5a9908"
      },
      "execution_count": null,
      "outputs": [
        {
          "output_type": "stream",
          "name": "stdout",
          "text": [
            "5\n"
          ]
        }
      ]
    },
    {
      "cell_type": "markdown",
      "source": [
        "14. Write a code to find the index of the element \"cat\" in the tuple ('dog', 'cat', 'rabbit')."
      ],
      "metadata": {
        "id": "sueIfuKW3CoY"
      }
    },
    {
      "cell_type": "code",
      "source": [
        "animals = ('dog', 'cat', 'rabbit')\n",
        "print(animals.index('cat'))"
      ],
      "metadata": {
        "colab": {
          "base_uri": "https://localhost:8080/"
        },
        "id": "9jMkb09n3J23",
        "outputId": "27893f92-861f-4bb6-e79a-a61ca02d5e7b"
      },
      "execution_count": null,
      "outputs": [
        {
          "output_type": "stream",
          "name": "stdout",
          "text": [
            "1\n"
          ]
        }
      ]
    },
    {
      "cell_type": "markdown",
      "source": [
        "15. Write a code to create a tuple containing three different fruits and check if \"kiwi\" is in it."
      ],
      "metadata": {
        "id": "XOtFt5VH3UEW"
      }
    },
    {
      "cell_type": "code",
      "source": [
        "fruits = (\"apple\", \"banana\", \"kiwi\")\n",
        "print(\"kiwi\" in fruits)"
      ],
      "metadata": {
        "colab": {
          "base_uri": "https://localhost:8080/"
        },
        "id": "-fm7jft_3cTr",
        "outputId": "f946079d-db7a-41a5-e0f8-22f1ae9422ae"
      },
      "execution_count": null,
      "outputs": [
        {
          "output_type": "stream",
          "name": "stdout",
          "text": [
            "True\n"
          ]
        }
      ]
    },
    {
      "cell_type": "markdown",
      "source": [
        "16.  Write a code to create a set with the elements 'a', 'b', 'c' and print it."
      ],
      "metadata": {
        "id": "UeqZsvJX3vym"
      }
    },
    {
      "cell_type": "code",
      "source": [
        "my_set = {'a', 'b', 'c'}\n",
        "print(\"Set:\", my_set)"
      ],
      "metadata": {
        "colab": {
          "base_uri": "https://localhost:8080/"
        },
        "id": "RhjB4VVF33yn",
        "outputId": "1216c4e8-0f30-4be7-80f8-a25ac8356dd8"
      },
      "execution_count": null,
      "outputs": [
        {
          "output_type": "stream",
          "name": "stdout",
          "text": [
            "Set: {'c', 'b', 'a'}\n"
          ]
        }
      ]
    },
    {
      "cell_type": "markdown",
      "source": [
        "17. Write a code to clear all elements from the set {1, 2, 3, 4, 5}."
      ],
      "metadata": {
        "id": "ASzI0duf4hkk"
      }
    },
    {
      "cell_type": "code",
      "source": [
        "numbers = {1, 2, 3, 4, 5}\n",
        "numbers.clear()\n",
        "print(numbers)"
      ],
      "metadata": {
        "colab": {
          "base_uri": "https://localhost:8080/"
        },
        "id": "i76uEEOr4jYB",
        "outputId": "15b3e844-0033-4916-a23a-a83100a775f2"
      },
      "execution_count": null,
      "outputs": [
        {
          "output_type": "stream",
          "name": "stdout",
          "text": [
            "set()\n"
          ]
        }
      ]
    },
    {
      "cell_type": "markdown",
      "source": [
        "18.  Write a code to remove the element 4 from the set {1, 2, 3, 4}."
      ],
      "metadata": {
        "id": "1nq3YJvT4uiY"
      }
    },
    {
      "cell_type": "code",
      "source": [
        "numbers = {1, 2, 3, 4}\n",
        "numbers.remove(4)\n",
        "print(numbers)"
      ],
      "metadata": {
        "colab": {
          "base_uri": "https://localhost:8080/"
        },
        "id": "TurZjSPZ41RH",
        "outputId": "c990f007-f5ce-435d-b311-7515d1504478"
      },
      "execution_count": null,
      "outputs": [
        {
          "output_type": "stream",
          "name": "stdout",
          "text": [
            "{1, 2, 3}\n"
          ]
        }
      ]
    },
    {
      "cell_type": "markdown",
      "source": [
        "19. Write a code to find the union of two sets {1, 2, 3} and {3, 4, 5}."
      ],
      "metadata": {
        "id": "7tkzXxVY49eP"
      }
    },
    {
      "cell_type": "code",
      "source": [
        "numbers1 = {1, 2, 3}\n",
        "numbers2 = {3, 4, 5}\n",
        "union = numbers1.union(numbers2)\n",
        "print(union)"
      ],
      "metadata": {
        "colab": {
          "base_uri": "https://localhost:8080/"
        },
        "id": "a6KozB745C64",
        "outputId": "8f8dee19-2c9b-46de-c2c6-bcd06f784464"
      },
      "execution_count": null,
      "outputs": [
        {
          "output_type": "stream",
          "name": "stdout",
          "text": [
            "{1, 2, 3, 4, 5}\n"
          ]
        }
      ]
    },
    {
      "cell_type": "markdown",
      "source": [
        "20. Write a code to find the intersection of two sets {1, 2, 3} and {2, 3, 4}."
      ],
      "metadata": {
        "id": "m603bDoz5KD6"
      }
    },
    {
      "cell_type": "code",
      "source": [
        "numbers1 = {1, 2, 3}\n",
        "numbers2 = {2, 3, 4}\n",
        "intersection = numbers1.intersection(numbers2)\n",
        "print(intersection)"
      ],
      "metadata": {
        "colab": {
          "base_uri": "https://localhost:8080/"
        },
        "id": "_XBNu9Nq5Sus",
        "outputId": "35ab0630-0536-4afe-a60c-8090f4fb22ae"
      },
      "execution_count": null,
      "outputs": [
        {
          "output_type": "stream",
          "name": "stdout",
          "text": [
            "{2, 3}\n"
          ]
        }
      ]
    },
    {
      "cell_type": "markdown",
      "source": [
        "21.  Write a code to create a dictionary with the keys \"name\", \"age\", and \"city\", and print it."
      ],
      "metadata": {
        "id": "7aJkL5nk5xXm"
      }
    },
    {
      "cell_type": "code",
      "source": [
        "person = {\"name\": \"Shruti\",\n",
        "          \"age\": 20,\n",
        "          \"city\": \"Rewari\"}\n",
        "print(person)"
      ],
      "metadata": {
        "colab": {
          "base_uri": "https://localhost:8080/"
        },
        "id": "D87w-XBK640A",
        "outputId": "81fbc4dc-1854-4e98-e027-744a647bdcc7"
      },
      "execution_count": null,
      "outputs": [
        {
          "output_type": "stream",
          "name": "stdout",
          "text": [
            "{'name': 'Shruti', 'age': 20, 'city': 'Rewari'}\n"
          ]
        }
      ]
    },
    {
      "cell_type": "markdown",
      "source": [
        "22. Write a code to add a new key-value pair \"country\": \"USA\" to the dictionary {'name': 'John', 'age': 25}."
      ],
      "metadata": {
        "id": "Mdj1e7lN7aAu"
      }
    },
    {
      "cell_type": "code",
      "source": [
        "info = {'name': 'John', 'age': 25}\n",
        "info['country'] = 'USA'\n",
        "print(info)"
      ],
      "metadata": {
        "colab": {
          "base_uri": "https://localhost:8080/"
        },
        "id": "IW9b9VEo7l4_",
        "outputId": "161e9f30-7c3e-4b0f-e6c2-810d241a430f"
      },
      "execution_count": null,
      "outputs": [
        {
          "output_type": "stream",
          "name": "stdout",
          "text": [
            "{'name': 'John', 'age': 25, 'country': 'USA'}\n"
          ]
        }
      ]
    },
    {
      "cell_type": "markdown",
      "source": [
        "23.  Write a code to access the value associated with the key \"name\" in the dictionary {'name': 'Alice', 'age': 30}."
      ],
      "metadata": {
        "id": "6_MV410h72S1"
      }
    },
    {
      "cell_type": "code",
      "source": [
        "Alice = {'name': 'Alice', 'age': 30}\n",
        "print(Alice['name'])"
      ],
      "metadata": {
        "colab": {
          "base_uri": "https://localhost:8080/"
        },
        "id": "D1ze3aJo8FJX",
        "outputId": "b2d80711-055f-48c6-ee11-392289e92ad3"
      },
      "execution_count": null,
      "outputs": [
        {
          "output_type": "stream",
          "name": "stdout",
          "text": [
            "Alice\n"
          ]
        }
      ]
    },
    {
      "cell_type": "markdown",
      "source": [
        "24.  Write a code to remove the key \"age\" from the dictionary {'name': 'Bob', 'age': 22, 'city': 'New York'}."
      ],
      "metadata": {
        "id": "dyfBCYFx8c9_"
      }
    },
    {
      "cell_type": "code",
      "source": [
        "bob = {'name': 'Bob', 'age': 22, 'city': 'New York'}\n",
        "del bob['age']\n",
        "print(bob)"
      ],
      "metadata": {
        "colab": {
          "base_uri": "https://localhost:8080/"
        },
        "id": "Or87oHDv8q8S",
        "outputId": "f450a75f-71d8-402c-dda7-a5fa3fc5091d"
      },
      "execution_count": null,
      "outputs": [
        {
          "output_type": "stream",
          "name": "stdout",
          "text": [
            "{'name': 'Bob', 'city': 'New York'}\n"
          ]
        }
      ]
    },
    {
      "cell_type": "markdown",
      "source": [
        "25.  Write a code to check if the key \"city\" exists in the dictionary {'name': 'Alice', 'city': 'Paris'}."
      ],
      "metadata": {
        "id": "TXHDquhN8yU-"
      }
    },
    {
      "cell_type": "code",
      "source": [
        "alice = {'name': 'Alice', 'city': 'Paris'}\n",
        "print('city' in alice)"
      ],
      "metadata": {
        "colab": {
          "base_uri": "https://localhost:8080/"
        },
        "id": "fXoI1UDN8j6N",
        "outputId": "e2be930a-1845-4816-f2fb-96cdcbbe9a11"
      },
      "execution_count": null,
      "outputs": [
        {
          "output_type": "stream",
          "name": "stdout",
          "text": [
            "True\n"
          ]
        }
      ]
    },
    {
      "cell_type": "markdown",
      "source": [
        "26.  Write a code to create a list, a tuple, and a dictionary, and print them all."
      ],
      "metadata": {
        "id": "jkkZfozW9DdO"
      }
    },
    {
      "cell_type": "code",
      "source": [
        "my_list = [\"apple\", \"banana\", \"cherry\"]\n",
        "my_tuple = (1, 2, 3, 4, 5)\n",
        "my_dict = {'a': 1, 'b': 2, 'c': 3}\n",
        "print(\"List:\", my_list)\n",
        "print(\"Tuple:\", my_tuple)\n",
        "print(\"Dictionary:\", my_dict)"
      ],
      "metadata": {
        "colab": {
          "base_uri": "https://localhost:8080/"
        },
        "id": "hY_Pk9PS9OG-",
        "outputId": "b2b81a17-0531-4343-8ecc-27a96fbd4c02"
      },
      "execution_count": null,
      "outputs": [
        {
          "output_type": "stream",
          "name": "stdout",
          "text": [
            "List: ['apple', 'banana', 'cherry']\n",
            "Tuple: (1, 2, 3, 4, 5)\n",
            "Dictionary: {'a': 1, 'b': 2, 'c': 3}\n"
          ]
        }
      ]
    },
    {
      "cell_type": "markdown",
      "source": [
        "27.  Write a code to create a list of 5 random numbers between 1 and 100, sort it in ascending order, and print the\n",
        "result.(replaced)"
      ],
      "metadata": {
        "id": "ZRksRSFd9qdi"
      }
    },
    {
      "cell_type": "code",
      "source": [
        "my_list = [40, 18, 66, 90, 80]\n",
        "my_list.sort()\n",
        "print(my_list)"
      ],
      "metadata": {
        "colab": {
          "base_uri": "https://localhost:8080/"
        },
        "id": "iahdYCZe9ufi",
        "outputId": "9a1ccfbd-d493-4c50-bfa6-7693b2a76a7c"
      },
      "execution_count": null,
      "outputs": [
        {
          "output_type": "stream",
          "name": "stdout",
          "text": [
            "[18, 40, 66, 80, 90]\n"
          ]
        }
      ]
    },
    {
      "cell_type": "markdown",
      "source": [
        "28.  Write a code to create a list with strings and print the element  at the third index."
      ],
      "metadata": {
        "id": "IOD7Nytk-Lug"
      }
    },
    {
      "cell_type": "code",
      "source": [
        "my_list = [\"apple\", \"cherry\", \"litchi\", \"strawberry\"]\n",
        "print(\"element at index 3:\", my_list[3])"
      ],
      "metadata": {
        "colab": {
          "base_uri": "https://localhost:8080/"
        },
        "id": "npJ7J9G2-op0",
        "outputId": "86d26cec-47c0-475c-a8e2-0d750587c1b8"
      },
      "execution_count": null,
      "outputs": [
        {
          "output_type": "stream",
          "name": "stdout",
          "text": [
            "strawberry\n"
          ]
        }
      ]
    },
    {
      "cell_type": "markdown",
      "source": [
        "29.  Write a code to combine two dictionaries into one and print the result."
      ],
      "metadata": {
        "id": "fv0Fv7Zp_LO9"
      }
    },
    {
      "cell_type": "code",
      "source": [
        "dict1 = {'a': 1, 'b': 2}\n",
        "dict2 = {'c': 3, 'd': 4}\n",
        "combined_dict = {**dict1, **dict2}\n",
        "print(combined_dict)"
      ],
      "metadata": {
        "colab": {
          "base_uri": "https://localhost:8080/"
        },
        "id": "n1L02zOv_JJW",
        "outputId": "7b810292-886c-440d-d1a0-11f49ee8284f"
      },
      "execution_count": null,
      "outputs": [
        {
          "output_type": "stream",
          "name": "stdout",
          "text": [
            "{'a': 1, 'b': 2, 'c': 3, 'd': 4}\n"
          ]
        }
      ]
    },
    {
      "cell_type": "markdown",
      "source": [
        "30. Write a code to convert a list of strings into a set."
      ],
      "metadata": {
        "id": "oRVTlsN9ABYJ"
      }
    },
    {
      "cell_type": "code",
      "source": [
        "list = [\"science\", \"commerce\", \"arts\", \"science\", \"commerce\"]\n",
        "unique_list = set(list)\n",
        "print(\"unique list:\", unique_list)"
      ],
      "metadata": {
        "colab": {
          "base_uri": "https://localhost:8080/"
        },
        "id": "Co5t3kJUALAI",
        "outputId": "a26e6a2c-4d1e-4678-d4eb-b3a2e2d4f2d7"
      },
      "execution_count": null,
      "outputs": [
        {
          "output_type": "stream",
          "name": "stdout",
          "text": [
            "unique list: {'commerce', 'science', 'arts'}\n"
          ]
        }
      ]
    }
  ]
}